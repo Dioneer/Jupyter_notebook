{
 "cells": [
  {
   "cell_type": "markdown",
   "metadata": {},
   "source": [
    "## Условие 2\n",
    "На складе лежат разные фрукты в разном количестве.\n",
    "Нужно написать функцию, которая на вход принимает любое количество названий фруктов и их количество, а возвращает общее количество фруктов на складе"
   ]
  },
  {
   "cell_type": "code",
   "execution_count": null,
   "metadata": {},
   "outputs": [],
   "source": [
    "storage = dict()"
   ]
  },
  {
   "cell_type": "code",
   "execution_count": 3,
   "metadata": {},
   "outputs": [],
   "source": [
    "def member_fruits():\n",
    "\tflag=True\n",
    "\twhile flag:\n",
    "\t\tchoise = input(\"Если хотите записать фрукт и его количество нажмите 1, для выхода нажмите любую цифру: \")\n",
    "\t\tmatch(choise):\n",
    "\t\t\tcase \"1\":\n",
    "\t\t\t\tname = input(\"Введите название фрукта: \")\n",
    "\t\t\t\tamount = input(\"Введите количесвто фруктов: \")\n",
    "\t\t\t\tstorage[name] = int(amount)\n",
    "\t\t\tcase \"0\":\n",
    "\t\t\t\tprint(\"Goodbye!\")\n",
    "\t\t\t\tflag=False\n",
    "\t\t\tcase _:\n",
    "\t\t\t\tprint(\"Goodbye!\")\n",
    "\t\t\t\tflag=False"
   ]
  },
  {
   "cell_type": "code",
   "execution_count": 3,
   "metadata": {},
   "outputs": [
    {
     "ename": "NameError",
     "evalue": "name 'member_fruits' is not defined",
     "output_type": "error",
     "traceback": [
      "\u001b[1;31m---------------------------------------------------------------------------\u001b[0m",
      "\u001b[1;31mNameError\u001b[0m                                 Traceback (most recent call last)",
      "Cell \u001b[1;32mIn[3], line 8\u001b[0m\n\u001b[0;32m      6\u001b[0m         count\u001b[38;5;241m+\u001b[39m\u001b[38;5;241m=\u001b[39mv\n\u001b[0;32m      7\u001b[0m     \u001b[38;5;28;01mreturn\u001b[39;00m count\n\u001b[1;32m----> 8\u001b[0m \u001b[43mcounter_fruits\u001b[49m\u001b[43m(\u001b[49m\u001b[43m)\u001b[49m\n",
      "Cell \u001b[1;32mIn[3], line 3\u001b[0m, in \u001b[0;36mcounter_fruits\u001b[1;34m()\u001b[0m\n\u001b[0;32m      1\u001b[0m \u001b[38;5;28;01mdef\u001b[39;00m \u001b[38;5;21mcounter_fruits\u001b[39m():\n\u001b[0;32m      2\u001b[0m     count \u001b[38;5;241m=\u001b[39m \u001b[38;5;241m0\u001b[39m\n\u001b[1;32m----> 3\u001b[0m     \u001b[43mmember_fruits\u001b[49m()\n\u001b[0;32m      4\u001b[0m     \u001b[38;5;28mprint\u001b[39m(storage)\n\u001b[0;32m      5\u001b[0m     \u001b[38;5;28;01mfor\u001b[39;00m v \u001b[38;5;129;01min\u001b[39;00m storage\u001b[38;5;241m.\u001b[39mvalues():\n",
      "\u001b[1;31mNameError\u001b[0m: name 'member_fruits' is not defined"
     ]
    }
   ],
   "source": [
    "def counter_fruits():\n",
    "    count = 0\n",
    "    member_fruits()\n",
    "    print(storage)\n",
    "    for v in storage.values():\n",
    "        count+=v\n",
    "    return count\n",
    "counter_fruits()"
   ]
  },
  {
   "cell_type": "code",
   "execution_count": null,
   "metadata": {},
   "outputs": [],
   "source": []
  },
  {
   "cell_type": "code",
   "execution_count": null,
   "metadata": {},
   "outputs": [],
   "source": []
  },
  {
   "cell_type": "code",
   "execution_count": null,
   "metadata": {},
   "outputs": [],
   "source": []
  }
 ],
 "metadata": {
  "kernelspec": {
   "display_name": "Python 3 (ipykernel)",
   "language": "python",
   "name": "python3"
  },
  "language_info": {
   "codemirror_mode": {
    "name": "ipython",
    "version": 3
   },
   "file_extension": ".py",
   "mimetype": "text/x-python",
   "name": "python",
   "nbconvert_exporter": "python",
   "pygments_lexer": "ipython3",
   "version": "3.11.2"
  },
  "vscode": {
   "interpreter": {
    "hash": "603cf5ce7eb6259348c415a559577241634a41eb31afb432170d38a412f380de"
   }
  }
 },
 "nbformat": 4,
 "nbformat_minor": 4
}
