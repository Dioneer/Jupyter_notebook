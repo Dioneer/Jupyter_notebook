{
 "cells": [
  {
   "cell_type": "code",
   "execution_count": 17,
   "id": "5506b4ff-8d5d-4c01-8e7b-cdf7389f6b6a",
   "metadata": {},
   "outputs": [
    {
     "data": {
      "text/plain": [
       "{'One': 1, 'Two': 2, 'Three': 3, 'Four': 4, 'Five': 5, 'Six': 6}"
      ]
     },
     "execution_count": 17,
     "metadata": {},
     "output_type": "execute_result"
    }
   ],
   "source": [
    "def summ_dict(a,b):\n",
    "    # c=a.copy()\n",
    "    # c.update(b)\n",
    "    с = a.items()+(\n",
    "    return c\n",
    "summ_dict({'One': 1, 'Two': 2, 'Three': 3},{'Four': 4, 'Five': 5, 'Six': 6})"
   ]
  },
  {
   "cell_type": "code",
   "execution_count": null,
   "id": "a9ec152a-c296-4041-bd8b-532e69e2de0b",
   "metadata": {},
   "outputs": [],
   "source": []
  },
  {
   "cell_type": "code",
   "execution_count": null,
   "id": "29744efd-d4a7-4d1e-8a96-9ed67e6e4e91",
   "metadata": {},
   "outputs": [],
   "source": []
  }
 ],
 "metadata": {
  "kernelspec": {
   "display_name": "Python 3 (ipykernel)",
   "language": "python",
   "name": "python3"
  },
  "language_info": {
   "codemirror_mode": {
    "name": "ipython",
    "version": 3
   },
   "file_extension": ".py",
   "mimetype": "text/x-python",
   "name": "python",
   "nbconvert_exporter": "python",
   "pygments_lexer": "ipython3",
   "version": "3.11.2"
  }
 },
 "nbformat": 4,
 "nbformat_minor": 5
}
