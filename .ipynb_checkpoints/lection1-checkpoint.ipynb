{
 "cells": [
  {
   "cell_type": "code",
   "execution_count": 7,
   "id": "5506b4ff-8d5d-4c01-8e7b-cdf7389f6b6a",
   "metadata": {},
   "outputs": [
    {
     "data": {
      "text/plain": [
       "{'One': 1, 'Two': 2, 'Three': 3, 'Four': 4, 'Five': 5, 'Six': 6}"
      ]
     },
     "execution_count": 7,
     "metadata": {},
     "output_type": "execute_result"
    }
   ],
   "source": [
    "def summ_dict(a,b):\n",
    "    c=a.copy()\n",
    "    c.update(b)\n",
    "    return c\n",
    "summ_dict({'One': 1, 'Two': 2, 'Three': 3},{'Four': 4, 'Five': 5, 'Six': 6})"
   ]
  },
  {
   "cell_type": "code",
   "execution_count": 8,
   "id": "29744efd-d4a7-4d1e-8a96-9ed67e6e4e91",
   "metadata": {},
   "outputs": [],
   "source": [
    "keys = [1,2,3]\n",
    "values = [4,5,6]\n",
    "def compil(keys, values):\n",
    "    c={}\n",
    "    for i in range(len(keys)):\n",
    "        c[keys[i]] = values[i]\n",
    "    return c"
   ]
  },
  {
   "cell_type": "code",
   "execution_count": 9,
   "id": "aa9c003f-01d2-4092-ba7f-695ffb515c8f",
   "metadata": {},
   "outputs": [
    {
     "data": {
      "text/plain": [
       "{1: 4, 2: 5, 3: 6}"
      ]
     },
     "execution_count": 9,
     "metadata": {},
     "output_type": "execute_result"
    }
   ],
   "source": [
    "compil(keys, values)"
   ]
  },
  {
   "cell_type": "code",
   "execution_count": null,
   "id": "f222edcf-42ca-4620-a351-6d065d41accf",
   "metadata": {},
   "outputs": [],
   "source": []
  }
 ],
 "metadata": {
  "kernelspec": {
   "display_name": "Python 3",
   "language": "python",
   "name": "python3"
  },
  "language_info": {
   "codemirror_mode": {
    "name": "ipython",
    "version": 3
   },
   "file_extension": ".py",
   "mimetype": "text/x-python",
   "name": "python",
   "nbconvert_exporter": "python",
   "pygments_lexer": "ipython3",
   "version": "3.11.2 (tags/v3.11.2:878ead1, Feb  7 2023, 16:38:35) [MSC v.1934 64 bit (AMD64)]"
  },
  "vscode": {
   "interpreter": {
    "hash": "603cf5ce7eb6259348c415a559577241634a41eb31afb432170d38a412f380de"
   }
  }
 },
 "nbformat": 4,
 "nbformat_minor": 5
}
